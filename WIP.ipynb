{
  "nbformat": 4,
  "nbformat_minor": 0,
  "metadata": {
    "colab": {
      "provenance": [],
      "include_colab_link": true
    },
    "kernelspec": {
      "name": "python3",
      "display_name": "Python 3"
    },
    "language_info": {
      "name": "python"
    }
  },
  "cells": [
    {
      "cell_type": "markdown",
      "metadata": {
        "id": "view-in-github",
        "colab_type": "text"
      },
      "source": [
        "<a href=\"https://colab.research.google.com/github/steffenvogler/LLM2GPS/blob/main/WIP.ipynb\" target=\"_parent\"><img src=\"https://colab.research.google.com/assets/colab-badge.svg\" alt=\"Open In Colab\"/></a>"
      ]
    },
    {
      "cell_type": "code",
      "execution_count": 22,
      "metadata": {
        "id": "caEI2mIKkIWo",
        "colab": {
          "base_uri": "https://localhost:8080/"
        },
        "outputId": "5e5a4844-3d65-4b94-8e77-a9854bc7c1fb"
      },
      "outputs": [
        {
          "output_type": "stream",
          "name": "stdout",
          "text": [
            "\u001b[?25l     \u001b[90m━━━━━━━━━━━━━━━━━━━━━━━━━━━━━━━━━━━━━━━━\u001b[0m \u001b[32m0.0/158.8 kB\u001b[0m \u001b[31m?\u001b[0m eta \u001b[36m-:--:--\u001b[0m\r\u001b[2K     \u001b[91m━━━━━━━━━━━━━━━━━━━━━━━━━━━━━━\u001b[0m\u001b[91m╸\u001b[0m\u001b[90m━━━━━━━━━\u001b[0m \u001b[32m122.9/158.8 kB\u001b[0m \u001b[31m3.6 MB/s\u001b[0m eta \u001b[36m0:00:01\u001b[0m\r\u001b[2K     \u001b[90m━━━━━━━━━━━━━━━━━━━━━━━━━━━━━━━━━━━━━━━━\u001b[0m \u001b[32m158.8/158.8 kB\u001b[0m \u001b[31m3.3 MB/s\u001b[0m eta \u001b[36m0:00:00\u001b[0m\n",
            "\u001b[?25h"
          ]
        }
      ],
      "source": [
        "pip install --upgrade --quiet geopy google-api-python-client google-cloud-aiplatform langchain-core google-generativeai langchain-google-genai"
      ]
    },
    {
      "cell_type": "code",
      "source": [
        "# # Automatically restart kernel after installs so that your environment can access the new packages\n",
        "import IPython\n",
        "\n",
        "app = IPython.Application.instance()\n",
        "app.kernel.do_shutdown(True)"
      ],
      "metadata": {
        "id": "2moFm7mJH8w7"
      },
      "execution_count": null,
      "outputs": []
    },
    {
      "cell_type": "markdown",
      "source": [
        "## Setting everything up"
      ],
      "metadata": {
        "id": "jTHBf58mIBA1"
      }
    },
    {
      "cell_type": "code",
      "source": [
        "import getpass\n",
        "import math\n",
        "import os\n",
        "import pandas as pd\n",
        "import pathlib\n",
        "import textwrap\n",
        "\n",
        "import google.generativeai as genai\n",
        "from langchain_google_genai import ChatGoogleGenerativeAI\n",
        "\n",
        "from langchain.chains import LLMChain, SimpleSequentialChain\n",
        "from langchain.prompts import PromptTemplate\n",
        "\n",
        "# Used to securely store your API key\n",
        "from google.colab import userdata\n",
        "\n",
        "from IPython.display import display\n",
        "from IPython.display import Markdown\n",
        "\n",
        "from geopy.geocoders import Nominatim\n",
        "from geopy import distance\n",
        "geolocator = Nominatim(user_agent=\"LLM2GPS\") # Many other geocoders available via GeoPy;  https://geopy.readthedocs.io/en/stable/#module-geopy.geocoders\n",
        "\n",
        "def to_markdown(text):\n",
        "  text = text.replace('•', '  *')\n",
        "  return Markdown(textwrap.indent(text, '> ', predicate=lambda _: True))"
      ],
      "metadata": {
        "id": "VMa_6oga_PDT"
      },
      "execution_count": 1,
      "outputs": []
    },
    {
      "cell_type": "markdown",
      "source": [
        "## Enter API Key generated in a private GCP account"
      ],
      "metadata": {
        "id": "eQB_sR4qS5rL"
      }
    },
    {
      "cell_type": "code",
      "source": [
        "\n",
        "\n",
        "if \"GOOGLE_API_KEY\" not in os.environ:\n",
        "    os.environ[\"GOOGLE_API_KEY\"] = getpass.getpass(\"Enter API Key\")\n",
        "\n",
        "genai.configure(api_key=os.environ['GOOGLE_API_KEY'])"
      ],
      "metadata": {
        "colab": {
          "base_uri": "https://localhost:8080/"
        },
        "id": "uo9AYrtb_Rg8",
        "outputId": "f48f8008-57ea-4c7d-bf89-4190bf8c1993"
      },
      "execution_count": 2,
      "outputs": [
        {
          "name": "stdout",
          "output_type": "stream",
          "text": [
            "Enter API Key··········\n"
          ]
        }
      ]
    },
    {
      "cell_type": "markdown",
      "source": [
        "## See which models are available"
      ],
      "metadata": {
        "id": "4fAiEkZjSxgz"
      }
    },
    {
      "cell_type": "code",
      "source": [
        "for m in genai.list_models():\n",
        "  if 'generateContent' in m.supported_generation_methods:\n",
        "    print(m.name)"
      ],
      "metadata": {
        "colab": {
          "base_uri": "https://localhost:8080/",
          "height": 231
        },
        "id": "p4avFQvHAb3f",
        "outputId": "990837cd-a7fb-4ded-9b92-0198d3ed432f"
      },
      "execution_count": 3,
      "outputs": [
        {
          "output_type": "stream",
          "name": "stdout",
          "text": [
            "models/gemini-1.0-pro\n",
            "models/gemini-1.0-pro-001\n",
            "models/gemini-1.0-pro-latest\n",
            "models/gemini-1.0-pro-vision-latest\n",
            "models/gemini-1.5-flash\n",
            "models/gemini-1.5-flash-001\n",
            "models/gemini-1.5-flash-latest\n",
            "models/gemini-1.5-pro\n",
            "models/gemini-1.5-pro-001\n",
            "models/gemini-1.5-pro-latest\n",
            "models/gemini-pro\n",
            "models/gemini-pro-vision\n"
          ]
        }
      ]
    },
    {
      "cell_type": "markdown",
      "source": [
        "## Selecting a model\n",
        "Overview at https://console.cloud.google.com/vertex-ai/model-garden"
      ],
      "metadata": {
        "id": "SwLZ-Pk2TKvG"
      }
    },
    {
      "cell_type": "code",
      "source": [
        "# LLM model\n",
        "llm = ChatGoogleGenerativeAI(\n",
        "    model=\"gemini-1.0-pro\",\n",
        "    max_output_tokens=256,\n",
        "    temperature=0.8,\n",
        "    top_p=0.8,\n",
        "    top_k=5,\n",
        "    verbose=True,\n",
        ")"
      ],
      "metadata": {
        "id": "kcyL9ZxUJwTx"
      },
      "execution_count": 6,
      "outputs": []
    },
    {
      "cell_type": "markdown",
      "source": [
        "## Sanity test"
      ],
      "metadata": {
        "id": "y_PmWjTeCDCu"
      }
    },
    {
      "cell_type": "code",
      "source": [
        "result = llm.invoke(\"Tell a dad joke that contains the word dinosaur. Later provide German translation\")\n",
        "to_markdown(result.content)"
      ],
      "metadata": {
        "colab": {
          "base_uri": "https://localhost:8080/",
          "height": 132
        },
        "id": "Zy3_P7WtBnD2",
        "outputId": "f96d16b1-4ca5-4579-bf94-7e33c8b15c1f"
      },
      "execution_count": 7,
      "outputs": [
        {
          "output_type": "execute_result",
          "data": {
            "text/plain": [
              "<IPython.core.display.Markdown object>"
            ],
            "text/markdown": "> **Dad Joke:**\n> What do you call a dinosaur with no arms?\n> \n> ...A theropod!\n> \n> **German Translation:**\n> Wie nennt man einen Dinosaurier ohne Arme?\n> \n> ...Ein Theropode!"
          },
          "metadata": {},
          "execution_count": 7
        }
      ]
    },
    {
      "cell_type": "code",
      "source": [
        "template = \"\"\"Your job is to guess the geographic loaction based on the description and keywords. Also fix typos and translate to English.\n",
        "% USER input\n",
        "{user_input}\n",
        "\n",
        "YOUR RESPONSE:\n",
        "\"\"\"\n",
        "prompt_template = PromptTemplate(input_variables=[\"user_input\"], template=template)\n",
        "\n",
        "# Holds my 'location' chain\n",
        "location_chain = LLMChain(llm=llm, prompt=prompt_template)\n",
        "\n",
        "template = \"\"\"Convert below input, into a structured output that looks like this:\n",
        "\"continent, country, city, name of the place or object\"\n",
        "\n",
        "Everything separated by a whitespace. Typos are fixed and translated to English. Only provide a single line of output. Never output any additional text. If there are more than one places that match the description or if you are not sure, add an asterisk sign ad the end of the response.\n",
        "% USER geo\n",
        "{user_geo}\n",
        "\n",
        "YOUR RESPONSE:\n",
        "\"\"\"\n",
        "prompt_template = PromptTemplate(input_variables=[\"user_geo\"], template=template)\n",
        "\n",
        "# Holds my 'json' chain\n",
        "geo_chain = LLMChain(llm=llm, prompt=prompt_template)\n",
        "\n",
        "overall_chain = SimpleSequentialChain(chains=[location_chain, geo_chain], verbose=False)"
      ],
      "metadata": {
        "colab": {
          "base_uri": "https://localhost:8080/"
        },
        "id": "Qtpe2nf5Kiyk",
        "outputId": "d1c3cd89-412d-4f6a-e18e-22a146b6d5ee"
      },
      "execution_count": 8,
      "outputs": [
        {
          "output_type": "stream",
          "name": "stderr",
          "text": [
            "/usr/local/lib/python3.10/dist-packages/langchain_core/_api/deprecation.py:119: LangChainDeprecationWarning: The class `LLMChain` was deprecated in LangChain 0.1.17 and will be removed in 0.3.0. Use RunnableSequence, e.g., `prompt | llm` instead.\n",
            "  warn_deprecated(\n"
          ]
        }
      ]
    },
    {
      "cell_type": "markdown",
      "source": [
        "## Orchestrating the LLM query and responses"
      ],
      "metadata": {
        "id": "NCTT78_VT_ul"
      }
    },
    {
      "cell_type": "code",
      "source": [
        "def response_processing(location, i):\n",
        "  if (location is None):\n",
        "    #print (i)\n",
        "    if i == 4:\n",
        "      return\n",
        "    #print(\"No location found\")\n",
        "    if i == 3:\n",
        "      improved_query = query\n",
        "    elif i == 2:\n",
        "      improved_query = str(overall_chain.invoke(query))\n",
        "    else:\n",
        "      improved_query = str(overall_chain.run(query) + \" \" + query)\n",
        "    location = geolocator.geocode(improved_query)\n",
        "    i = i + 1\n",
        "    response_processing(location,i)\n",
        "  else:\n",
        "    # try:\n",
        "    #   print(improved_query)\n",
        "    # except:\n",
        "    #   print(query)\n",
        "    print(\"GPS-coordinates: ({},{})\".format(location.latitude, location.longitude))\n",
        "    print(\"Address according to geocoding service: {}\".format(location.address))\n",
        "    xy0 = (location.raw['boundingbox'][0], location.raw['boundingbox'][2])\n",
        "    xy1 = (location.raw['boundingbox'][1], location.raw['boundingbox'][3])\n",
        "    print(\"Great circle distance in km: {}\".format(round(distance.great_circle(xy0, xy1).km,2)))\n",
        "    east_west_dist = haversine(location.raw['boundingbox'][0], location.raw['boundingbox'][2], location.raw['boundingbox'][0], location.raw['boundingbox'][3])\n",
        "    north_south_dist = haversine(location.raw['boundingbox'][0], location.raw['boundingbox'][2], location.raw['boundingbox'][1], location.raw['boundingbox'][2])\n",
        "    print(\"north_south_distance: {} and east-west-distance: {} (all in km)\".format(north_south_dist, east_west_dist))\n",
        ""
      ],
      "metadata": {
        "id": "A418nKpwTxhv"
      },
      "execution_count": 9,
      "outputs": []
    },
    {
      "cell_type": "code",
      "source": [
        "def haversine(lat1, lon1, lat2, lon2):\n",
        "  \"\"\"Calculates the great circle distance between two points on a sphere.\n",
        "\n",
        "  Args:\n",
        "    lat1: The latitude of the first point in degrees.\n",
        "    lon1: The longitude of the first point in degrees.\n",
        "    lat2: The latitude of the second point in degrees.\n",
        "    lon2: The longitude of the second point in degrees.\n",
        "\n",
        "  Returns:\n",
        "    The great circle distance between the two points in kilometers.\n",
        "  \"\"\"\n",
        "\n",
        "  R = 6371  # Earth's radius in kilometers\n",
        "\n",
        "  dlat = math.radians(float(lat2) - float(lat1))\n",
        "  dlon = math.radians(float(lon2) - float(lon1))\n",
        "  a = math.sin(dlat / 2) ** 2 + math.cos(math.radians(float(lat1))) * math.cos(math.radians(float(lat2))) * math.sin(dlon / 2) ** 2\n",
        "  c = 2 * math.atan2(math.sqrt(a), math.sqrt(1 - a))\n",
        "  d = R * c\n",
        "\n",
        "  return d"
      ],
      "metadata": {
        "id": "tUtHD7E5T1ss"
      },
      "execution_count": 10,
      "outputs": []
    },
    {
      "cell_type": "code",
      "source": [
        "query = \"Spreewald\" # @param [\"Berlin\", \"Copenhagen Zoo\", \"Spreewald\", \"Gjoa Haven\", \"Mt. Cook\", \"Zugspitze\", \"Sandwich island\", \"the biggest city in the country where Kiwis live\"] {allow-input: true}"
      ],
      "metadata": {
        "id": "J5GzTefyMqLL"
      },
      "execution_count": 26,
      "outputs": []
    },
    {
      "cell_type": "code",
      "source": [
        "improved_query = str(overall_chain.run(query))\n",
        "\n",
        "location = geolocator.geocode(improved_query)\n",
        "print(\"original query: {}; LLM-improved query: {}\".format(query,improved_query))\n",
        "\n",
        "i = 0\n",
        "response_processing(location, i)"
      ],
      "metadata": {
        "colab": {
          "base_uri": "https://localhost:8080/"
        },
        "id": "W9pIMfVQlPRk",
        "outputId": "0e8b6662-b80a-42bf-aaf5-fc2beaf65bb2"
      },
      "execution_count": 27,
      "outputs": [
        {
          "output_type": "stream",
          "name": "stdout",
          "text": [
            "original query: Spreewald; LLM-improved query: Europe Germany Brandenburg Spreewald\n",
            "GPS-coordinates: (51.9532976,13.884878363643075)\n",
            "Address according to geocoding service: Spreewald, Dahme-Spreewald, Brandenburg, Deutschland\n",
            "Great circle distance in km: 52.8\n",
            "north_south_distance: 41.025568336377674 and east-west-distance: 33.376934661327994 (all in km)\n"
          ]
        }
      ]
    },
    {
      "cell_type": "markdown",
      "source": [
        "## Now same concept used for enriching a public dataset\n",
        "Download zip file from https://doi.org/10.15468/dl.6qs64w"
      ],
      "metadata": {
        "id": "RrGLGpabbhXc"
      }
    },
    {
      "cell_type": "code",
      "source": [
        "import requests, zipfile, io\n",
        "zip_file_url = \"https://occurrence-download.gbif.org/occurrence/download/request/0032930-231002084531237.zip\"\n",
        "\n",
        "def download_url(url, save_path, chunk_size=128):\n",
        "    r = requests.get(url, stream=True)\n",
        "    with open(save_path, 'wb') as fd:\n",
        "        for chunk in r.iter_content(chunk_size=chunk_size):\n",
        "            fd.write(chunk)\n",
        "\n",
        "download_url(zip_file_url,'sample_data/test.zip')\n",
        "!unzip -o 'sample_data/test.zip'"
      ],
      "metadata": {
        "colab": {
          "base_uri": "https://localhost:8080/"
        },
        "id": "64G0PNyhbnv8",
        "outputId": "cbd14d25-bfb2-4ad5-dbb6-3705a6ad7dcb"
      },
      "execution_count": 20,
      "outputs": [
        {
          "output_type": "stream",
          "name": "stdout",
          "text": [
            "Archive:  sample_data/test.zip\n",
            "  inflating: 0032930-231002084531237.csv  \n"
          ]
        }
      ]
    },
    {
      "cell_type": "code",
      "source": [
        "df = pd.read_csv(\"0032930-231002084531237.csv\", sep='\\t')"
      ],
      "metadata": {
        "colab": {
          "base_uri": "https://localhost:8080/"
        },
        "id": "fX__VNurdxvM",
        "outputId": "2e7fa673-62dc-4d0e-b3aa-6bfa6dcd3624"
      },
      "execution_count": 21,
      "outputs": [
        {
          "output_type": "stream",
          "name": "stderr",
          "text": [
            "<ipython-input-21-eff9f8c44629>:1: DtypeWarning: Columns (41,45,48) have mixed types. Specify dtype option on import or set low_memory=False.\n",
            "  df = pd.read_csv(\"0032930-231002084531237.csv\", sep='\\t')\n"
          ]
        }
      ]
    },
    {
      "cell_type": "code",
      "source": [
        "df.columns"
      ],
      "metadata": {
        "colab": {
          "base_uri": "https://localhost:8080/"
        },
        "id": "1gnQ2ucOez6L",
        "outputId": "52d75b12-0ecc-4cc4-fff6-61f0352634ea"
      },
      "execution_count": 22,
      "outputs": [
        {
          "output_type": "execute_result",
          "data": {
            "text/plain": [
              "Index(['gbifID', 'datasetKey', 'occurrenceID', 'kingdom', 'phylum', 'class',\n",
              "       'order', 'family', 'genus', 'species', 'infraspecificEpithet',\n",
              "       'taxonRank', 'scientificName', 'verbatimScientificName',\n",
              "       'verbatimScientificNameAuthorship', 'countryCode', 'locality',\n",
              "       'stateProvince', 'occurrenceStatus', 'individualCount',\n",
              "       'publishingOrgKey', 'decimalLatitude', 'decimalLongitude',\n",
              "       'coordinateUncertaintyInMeters', 'coordinatePrecision', 'elevation',\n",
              "       'elevationAccuracy', 'depth', 'depthAccuracy', 'eventDate', 'day',\n",
              "       'month', 'year', 'taxonKey', 'speciesKey', 'basisOfRecord',\n",
              "       'institutionCode', 'collectionCode', 'catalogNumber', 'recordNumber',\n",
              "       'identifiedBy', 'dateIdentified', 'license', 'rightsHolder',\n",
              "       'recordedBy', 'typeStatus', 'establishmentMeans', 'lastInterpreted',\n",
              "       'mediaType', 'issue'],\n",
              "      dtype='object')"
            ]
          },
          "metadata": {},
          "execution_count": 22
        }
      ]
    },
    {
      "cell_type": "code",
      "source": [
        "locality_list = list(df.locality.unique())"
      ],
      "metadata": {
        "id": "cFVrOezIeExq"
      },
      "execution_count": 31,
      "outputs": []
    },
    {
      "cell_type": "markdown",
      "source": [
        "Assumption is that LLM can translate between human natural language and description that can be understood by Geocoding Service"
      ],
      "metadata": {
        "id": "ZcDahuIFi1cf"
      }
    },
    {
      "cell_type": "code",
      "source": [
        "locality_list[:30]"
      ],
      "metadata": {
        "colab": {
          "base_uri": "https://localhost:8080/"
        },
        "id": "uMBx-xRHe_D1",
        "outputId": "230d150d-7777-4f27-d993-e2d9dfb29f13"
      },
      "execution_count": 33,
      "outputs": [
        {
          "output_type": "execute_result",
          "data": {
            "text/plain": [
              "[nan,\n",
              " 'in der Grube Messel',\n",
              " 'Grand Cayman, Karibisches Meer',\n",
              " 'Grand Cayman',\n",
              " 'Karibisches Meer, Grand Cayman',\n",
              " 'Nationaldistrikt, Bereich von Santo Domingo',\n",
              " 'Pitztal/bei Piller',\n",
              " 'Gemeinde Oviedo',\n",
              " 'Nachzucht, Herkunft unbekannt',\n",
              " 'Karibisches Meer, Grand Cayman, Wildfang',\n",
              " 'Zurnabad',\n",
              " 'Zoo Vivarium Darmstadt',\n",
              " 'Santo Domingo, Arroyo Hondo',\n",
              " 'Rostock',\n",
              " 'Vogelpark Walsrode',\n",
              " 'o.A.',\n",
              " 'Wangerooge - Deckwerk - Nordwest Strand',\n",
              " 'Vogelpark Marlow',\n",
              " 'Mecklenburg',\n",
              " 'Umgebung Feldberg',\n",
              " 'Rostock - Warnemünde - Gartenanlage \"Am Waldessaum\"',\n",
              " 'Port Stanley',\n",
              " 'Rostock, Mauerloch, 2 m hoch',\n",
              " 'Neuenkirchen bei Greifswald',\n",
              " 'Rostock-Barnstorf',\n",
              " 'o. A.',\n",
              " 'Insel Langenwerder',\n",
              " 'Rostock - Barnstorf - Zoo',\n",
              " 'Börgerende bei Bad Doberan',\n",
              " 'Zoo Rostock - Vogelpark Marlow ; Heimat: Australien']"
            ]
          },
          "metadata": {},
          "execution_count": 33
        }
      ]
    },
    {
      "cell_type": "markdown",
      "source": [
        "##Pseudocode below"
      ],
      "metadata": {
        "id": "QEibwnKFgcTD"
      }
    },
    {
      "cell_type": "code",
      "source": [
        "for each row:\n",
        "  # create new column and fill with new AI-derived data\n",
        "  df[\"AI_derived_geotag\"] = {function using LLM plus geocoding}"
      ],
      "metadata": {
        "id": "q4QPe9oJgOHx"
      },
      "execution_count": null,
      "outputs": []
    }
  ]
}