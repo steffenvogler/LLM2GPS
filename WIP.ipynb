{
  "nbformat": 4,
  "nbformat_minor": 0,
  "metadata": {
    "colab": {
      "provenance": [],
      "include_colab_link": true
    },
    "kernelspec": {
      "name": "python3",
      "display_name": "Python 3"
    },
    "language_info": {
      "name": "python"
    }
  },
  "cells": [
    {
      "cell_type": "markdown",
      "metadata": {
        "id": "view-in-github",
        "colab_type": "text"
      },
      "source": [
        "<a href=\"https://colab.research.google.com/github/steffenvogler/LLM2GPS/blob/main/WIP.ipynb\" target=\"_parent\"><img src=\"https://colab.research.google.com/assets/colab-badge.svg\" alt=\"Open In Colab\"/></a>"
      ]
    },
    {
      "cell_type": "code",
      "execution_count": null,
      "metadata": {
        "id": "caEI2mIKkIWo"
      },
      "outputs": [],
      "source": [
        "pip install langchain geopy google-api-python-client google-cloud-aiplatform"
      ]
    },
    {
      "cell_type": "code",
      "source": [
        "# # Automatically restart kernel after installs so that your environment can access the new packages\n",
        "import IPython\n",
        "\n",
        "app = IPython.Application.instance()\n",
        "app.kernel.do_shutdown(True)"
      ],
      "metadata": {
        "colab": {
          "base_uri": "https://localhost:8080/"
        },
        "id": "2moFm7mJH8w7",
        "outputId": "91db0286-0057-417c-af57-505e1b09b7b3"
      },
      "execution_count": 8,
      "outputs": [
        {
          "output_type": "execute_result",
          "data": {
            "text/plain": [
              "{'status': 'ok', 'restart': True}"
            ]
          },
          "metadata": {},
          "execution_count": 8
        }
      ]
    },
    {
      "cell_type": "markdown",
      "source": [
        "**Getting started**"
      ],
      "metadata": {
        "id": "jTHBf58mIBA1"
      }
    },
    {
      "cell_type": "code",
      "source": [
        "from google.colab import auth as google_auth\n",
        "google_auth.authenticate_user()"
      ],
      "metadata": {
        "id": "TV2apPZOIAE7"
      },
      "execution_count": 1,
      "outputs": []
    },
    {
      "cell_type": "markdown",
      "source": [
        "the project must be present under https://console.cloud.google.com/ using the same account as used in above authentication"
      ],
      "metadata": {
        "id": "7fU4u-BzKe-E"
      }
    },
    {
      "cell_type": "code",
      "source": [
        "import vertexai\n",
        "\n",
        "PROJECT_ID = \"ai4mfn-404121\"  # @param {type:\"string\"}\n",
        "vertexai.init(project=PROJECT_ID, location=\"europe-west4\")"
      ],
      "metadata": {
        "id": "1qSTxXvEIbVw"
      },
      "execution_count": 2,
      "outputs": []
    },
    {
      "cell_type": "code",
      "source": [
        "from langchain.llms import VertexAI\n",
        "from google.cloud import aiplatform\n",
        "\n",
        "# LangChain\n",
        "import langchain\n",
        "\n",
        "print(f\"LangChain version: {langchain.__version__}\")\n",
        "\n",
        "# Vertex AI\n",
        "\n",
        "print(f\"Vertex AI SDK version: {aiplatform.__version__}\")"
      ],
      "metadata": {
        "colab": {
          "base_uri": "https://localhost:8080/"
        },
        "id": "de-kbV2JJbF4",
        "outputId": "a4d9649b-4d66-45b9-f5b3-c6b88ef7d2eb"
      },
      "execution_count": 3,
      "outputs": [
        {
          "output_type": "stream",
          "name": "stdout",
          "text": [
            "LangChain version: 0.0.330\n",
            "Vertex AI SDK version: 1.36.0\n"
          ]
        }
      ]
    },
    {
      "cell_type": "code",
      "source": [
        "# LLM model\n",
        "llm = VertexAI(\n",
        "    model_name=\"text-bison@001\",\n",
        "    max_output_tokens=256,\n",
        "    temperature=0.1,\n",
        "    top_p=0.8,\n",
        "    top_k=5,\n",
        "    verbose=True,\n",
        ")"
      ],
      "metadata": {
        "id": "kcyL9ZxUJwTx"
      },
      "execution_count": 4,
      "outputs": []
    },
    {
      "cell_type": "markdown",
      "source": [
        "check this for more details and code snipptes: [Link to exmaple notebook](https://colab.research.google.com/github/GoogleCloudPlatform/generative-ai/blob/main/language/orchestration/langchain/intro_langchain_palm_api.ipynb#scrollTo=eVpPcvsrkzCk)"
      ],
      "metadata": {
        "id": "ANqGJ3KKJ27c"
      }
    },
    {
      "cell_type": "code",
      "source": [
        "from langchain.chains import LLMChain, SimpleSequentialChain\n",
        "from langchain.prompts import PromptTemplate"
      ],
      "metadata": {
        "id": "fxzav7EBod0C"
      },
      "execution_count": 5,
      "outputs": []
    },
    {
      "cell_type": "code",
      "source": [
        "template = \"\"\"Your job is to guess the geographic loaction based on the description and keywords.\n",
        "% USER input\n",
        "{user_input}\n",
        "\n",
        "YOUR RESPONSE:\n",
        "\"\"\"\n",
        "prompt_template = PromptTemplate(input_variables=[\"user_input\"], template=template)\n",
        "\n",
        "# Holds my 'location' chain\n",
        "location_chain = LLMChain(llm=llm, prompt=prompt_template)\n",
        "\n",
        "template = \"\"\"Given a location, provide a structured output that starts with the continent, then country, federal state, then administrative district or city (if applicable). Everything separated by a whitespace. Only provide a single line of output. Never output any additional text. If there are more than one places that match the description or if you are not sure, add an asterisk sign ad the end of the response.\n",
        "% USER geo\n",
        "{user_geo}\n",
        "\n",
        "YOUR RESPONSE:\n",
        "\"\"\"\n",
        "prompt_template = PromptTemplate(input_variables=[\"user_geo\"], template=template)\n",
        "\n",
        "# Holds my 'json' chain\n",
        "geo_chain = LLMChain(llm=llm, prompt=prompt_template)\n",
        "\n",
        "overall_chain = SimpleSequentialChain(chains=[location_chain, geo_chain], verbose=False)"
      ],
      "metadata": {
        "id": "oejIkzhurP02"
      },
      "execution_count": 6,
      "outputs": []
    },
    {
      "cell_type": "code",
      "source": [
        "from geopy.geocoders import Nominatim\n",
        "from geopy import distance\n",
        "geolocator = Nominatim(user_agent=\"LLM2GPS\")"
      ],
      "metadata": {
        "id": "VUvtFhGslOqT"
      },
      "execution_count": 7,
      "outputs": []
    },
    {
      "cell_type": "code",
      "source": [
        "#query = \"Berlin\"\n",
        "#query = \"Spreewald\"\n",
        "#query = \"Zugspitze\"\n",
        "#query = \"Mount Ararat\"\n",
        "#query = \"Sandwich islands\"\n",
        "query = \"Gjoa Haven\"\n",
        "#query = \"place where platypus live\"\n",
        "improved_query = str(query + \" \" + overall_chain.run(query))\n",
        "location = geolocator.geocode(improved_query)\n",
        "print(improved_query)\n",
        "\n",
        "i = 0\n",
        "def response_processining(location, i):\n",
        "  if (location is None):\n",
        "    #print (i)\n",
        "    if i == 4:\n",
        "      return\n",
        "    #print(\"No location found\")\n",
        "    if i == 3:\n",
        "      improved_query = query\n",
        "    elif i == 2:\n",
        "      improved_query = str(overall_chain.run(query))\n",
        "    else:\n",
        "      improved_query = str(overall_chain.run(query) + \" \" + query)\n",
        "    location = geolocator.geocode(improved_query)\n",
        "    i = i + 1\n",
        "    response_processining(location,i)\n",
        "  else:\n",
        "    try:\n",
        "      print(improved_query)\n",
        "    except:\n",
        "      print(query)\n",
        "    print((location.latitude, location.longitude))\n",
        "    print(location.address)\n",
        "    print(location.raw['boundingbox'])\n",
        "    print(location.raw)\n",
        "    xy0 = (location.raw['boundingbox'][0], location.raw['boundingbox'][2])\n",
        "    xy1 = (location.raw['boundingbox'][1], location.raw['boundingbox'][3])\n",
        "    print(\"Great circle distance in km: {}\".format(round(distance.great_circle(xy0, xy1).km,2)))\n",
        "\n",
        "response_processining(location, i)"
      ],
      "metadata": {
        "colab": {
          "base_uri": "https://localhost:8080/"
        },
        "id": "W9pIMfVQlPRk",
        "outputId": "2ffecf12-3776-4c62-9427-a35471259782"
      },
      "execution_count": 8,
      "outputs": [
        {
          "output_type": "stream",
          "name": "stdout",
          "text": [
            "Gjoa Haven North America Canada Nunavut Kitikmeot Region Gjoa Haven\n",
            "Gjoa Haven\n",
            "(68.64252755, -95.87829702808895)\n",
            "Gjoa Haven, ᕿᑎᕐᒥᐅᑦ Kitikmeot Region, ᓄᓇᕗᑦ Nunavut, Canada\n",
            "['68.5865275', '68.6982928', '-95.9999992', '-95.7502398']\n",
            "{'place_id': 267623347, 'licence': 'Data © OpenStreetMap contributors, ODbL 1.0. http://osm.org/copyright', 'osm_type': 'way', 'osm_id': 437472437, 'lat': '68.64252755', 'lon': '-95.87829702808895', 'class': 'place', 'type': 'town', 'place_rank': 18, 'importance': 0.38127088050974167, 'addresstype': 'town', 'name': 'Gjoa Haven', 'display_name': 'Gjoa Haven, ᕿᑎᕐᒥᐅᑦ Kitikmeot Region, ᓄᓇᕗᑦ Nunavut, Canada', 'boundingbox': ['68.5865275', '68.6982928', '-95.9999992', '-95.7502398']}\n",
            "Great circle distance in km: 16.02\n"
          ]
        }
      ]
    },
    {
      "cell_type": "code",
      "source": [
        "import math\n",
        "\n",
        "def haversine(lat1, lon1, lat2, lon2):\n",
        "  \"\"\"Calculates the great circle distance between two points on a sphere.\n",
        "\n",
        "  Args:\n",
        "    lat1: The latitude of the first point in degrees.\n",
        "    lon1: The longitude of the first point in degrees.\n",
        "    lat2: The latitude of the second point in degrees.\n",
        "    lon2: The longitude of the second point in degrees.\n",
        "\n",
        "  Returns:\n",
        "    The great circle distance between the two points in kilometers.\n",
        "  \"\"\"\n",
        "\n",
        "  R = 6371  # Earth's radius in kilometers\n",
        "\n",
        "  dlat = math.radians(float(lat2) - float(lat1))\n",
        "  dlon = math.radians(float(lon2) - float(lon1))\n",
        "  a = math.sin(dlat / 2) ** 2 + math.cos(math.radians(float(lat1))) * math.cos(math.radians(float(lat2))) * math.sin(dlon / 2) ** 2\n",
        "  c = 2 * math.atan2(math.sqrt(a), math.sqrt(1 - a))\n",
        "  d = R * c\n",
        "\n",
        "  return d"
      ],
      "metadata": {
        "id": "maLXGhv9n9Rr"
      },
      "execution_count": 34,
      "outputs": []
    },
    {
      "cell_type": "code",
      "source": [
        "# TODO: of 'type' = 'peak' a width/height calculation does not make sense (may be use national park instead?)\n",
        "# TODO: check the 'type' provided by Nominatim geocoders\n",
        "east_west_dist = haversine(location.raw['boundingbox'][0], location.raw['boundingbox'][2], location.raw['boundingbox'][0], location.raw['boundingbox'][3])\n",
        "north_south_dist = haversine(location.raw['boundingbox'][0], location.raw['boundingbox'][2], location.raw['boundingbox'][1], location.raw['boundingbox'][2])\n",
        "print(\"north_south_distance: {} and east-west-distance: {} (all in km)\".format(north_south_dist, east_west_dist))"
      ],
      "metadata": {
        "colab": {
          "base_uri": "https://localhost:8080/"
        },
        "id": "quxubhsrlZNt",
        "outputId": "aa2ed28e-bf9d-43f7-afda-8c23ea5695ee"
      },
      "execution_count": 56,
      "outputs": [
        {
          "output_type": "stream",
          "name": "stdout",
          "text": [
            "north_south_distance: 0.1192454393342144 and east-west-distance: 0.23887746336239363 (all in km)\n"
          ]
        }
      ]
    },
    {
      "cell_type": "code",
      "source": [
        "location = geolocator.geocode(\"New zealand; Mt Cook\")\n",
        "print(location)"
      ],
      "metadata": {
        "colab": {
          "base_uri": "https://localhost:8080/"
        },
        "id": "LtUYSGp5wDIp",
        "outputId": "a4acf523-bf9b-4c74-eca3-4222249db772"
      },
      "execution_count": 79,
      "outputs": [
        {
          "output_type": "stream",
          "name": "stdout",
          "text": [
            "Aoraki / Mount Cook, Mackenzie District, Canterbury, New Zealand / Aotearoa\n"
          ]
        }
      ]
    },
    {
      "cell_type": "code",
      "source": [],
      "metadata": {
        "id": "8Sv7W4KDxLY0"
      },
      "execution_count": null,
      "outputs": []
    }
  ]
}