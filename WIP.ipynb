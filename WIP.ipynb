{
  "nbformat": 4,
  "nbformat_minor": 0,
  "metadata": {
    "colab": {
      "provenance": [],
      "authorship_tag": "ABX9TyOpNK4u2jlIVpnTwS9gxay8",
      "include_colab_link": true
    },
    "kernelspec": {
      "name": "python3",
      "display_name": "Python 3"
    },
    "language_info": {
      "name": "python"
    }
  },
  "cells": [
    {
      "cell_type": "markdown",
      "metadata": {
        "id": "view-in-github",
        "colab_type": "text"
      },
      "source": [
        "<a href=\"https://colab.research.google.com/github/steffenvogler/LLM2GPS/blob/main/WIP.ipynb\" target=\"_parent\"><img src=\"https://colab.research.google.com/assets/colab-badge.svg\" alt=\"Open In Colab\"/></a>"
      ]
    },
    {
      "cell_type": "code",
      "execution_count": null,
      "metadata": {
        "id": "caEI2mIKkIWo"
      },
      "outputs": [],
      "source": [
        "pip install langchain geopy"
      ]
    },
    {
      "cell_type": "code",
      "source": [
        "from geopy.geocoders import Nominatim\n",
        "geolocator = Nominatim(user_agent=\"LLM2GPS\")"
      ],
      "metadata": {
        "id": "VUvtFhGslOqT"
      },
      "execution_count": 6,
      "outputs": []
    },
    {
      "cell_type": "code",
      "source": [
        "import math\n",
        "\n",
        "def haversine(lat1, lon1, lat2, lon2):\n",
        "  \"\"\"Calculates the great circle distance between two points on a sphere.\n",
        "\n",
        "  Args:\n",
        "    lat1: The latitude of the first point in degrees.\n",
        "    lon1: The longitude of the first point in degrees.\n",
        "    lat2: The latitude of the second point in degrees.\n",
        "    lon2: The longitude of the second point in degrees.\n",
        "\n",
        "  Returns:\n",
        "    The great circle distance between the two points in kilometers.\n",
        "  \"\"\"\n",
        "\n",
        "  R = 6371  # Earth's radius in kilometers\n",
        "\n",
        "  dlat = math.radians(float(lat2) - float(lat1))\n",
        "  dlon = math.radians(float(lon2) - float(lon1))\n",
        "  a = math.sin(dlat / 2) ** 2 + math.cos(math.radians(float(lat1))) * math.cos(math.radians(float(lat2))) * math.sin(dlon / 2) ** 2\n",
        "  c = 2 * math.atan2(math.sqrt(a), math.sqrt(1 - a))\n",
        "  d = R * c\n",
        "\n",
        "  return d"
      ],
      "metadata": {
        "id": "maLXGhv9n9Rr"
      },
      "execution_count": 47,
      "outputs": []
    },
    {
      "cell_type": "code",
      "source": [
        "#location = geolocator.geocode(\"Zoo Rostock Deutschland\")\n",
        "location = geolocator.geocode(\"Mecklenburg Vorpommern\")\n",
        "#location = geolocator.geocode(\"Berlin\")\n",
        "#location = geolocator.geocode(\"London Hyde Park\")\n",
        "#location = geolocator.geocode(\"Mt Cook New Zealand\")\n",
        "#location = geolocator.geocode(\"Mt Cook\") #w/o \"New Zealand\" it takes Mt Cook in Australia TODO: use LLM to refine search query\n",
        "print((location.latitude, location.longitude))\n",
        "print(location.address)\n",
        "print(location.raw['boundingbox'])\n",
        "print(location.raw)\n"
      ],
      "metadata": {
        "colab": {
          "base_uri": "https://localhost:8080/"
        },
        "id": "W9pIMfVQlPRk",
        "outputId": "506337e0-35d0-4182-94ce-ac0e0e97f863"
      },
      "execution_count": 56,
      "outputs": [
        {
          "output_type": "stream",
          "name": "stdout",
          "text": [
            "(53.7735136, 12.5755573)\n",
            "Mecklenburg-Vorpommern, Marktplatz, Teschower Siedlung, Teterow, Landkreis Rostock, Mecklenburg-Vorpommern, 17166, Deutschland\n",
            "['53.7734636', '53.7735636', '12.5755073', '12.5756073']\n",
            "{'place_id': 161432159, 'licence': 'Data © OpenStreetMap contributors, ODbL 1.0. http://osm.org/copyright', 'osm_type': 'node', 'osm_id': 8080687563, 'lat': '53.7735136', 'lon': '12.5755573', 'class': 'tourism', 'type': 'information', 'place_rank': 30, 'importance': 0.6448978522702745, 'addresstype': 'tourism', 'name': 'Mecklenburg-Vorpommern', 'display_name': 'Mecklenburg-Vorpommern, Marktplatz, Teschower Siedlung, Teterow, Landkreis Rostock, Mecklenburg-Vorpommern, 17166, Deutschland', 'boundingbox': ['53.7734636', '53.7735636', '12.5755073', '12.5756073']}\n"
          ]
        }
      ]
    },
    {
      "cell_type": "code",
      "source": [
        "# TODO: of 'type' = 'peak' a width/height calculation does not make sense (may be use national park instead?)\n",
        "# TODO: check the 'type' provided by Nominatim geocoders\n",
        "east_west_dist = haversine(location.raw['boundingbox'][0], location.raw['boundingbox'][2], location.raw['boundingbox'][0], location.raw['boundingbox'][3])\n",
        "north_south_dist = haversine(location.raw['boundingbox'][0], location.raw['boundingbox'][2], location.raw['boundingbox'][1], location.raw['boundingbox'][2])\n",
        "print(\"north_south_distance: {} and east-west-distance: {} (all in km)\".format(north_south_dist, east_west_dist))"
      ],
      "metadata": {
        "colab": {
          "base_uri": "https://localhost:8080/"
        },
        "id": "quxubhsrlZNt",
        "outputId": "9f5cb9f7-dd2e-4530-9db3-1efca1a2cf10"
      },
      "execution_count": 54,
      "outputs": [
        {
          "output_type": "stream",
          "name": "stdout",
          "text": [
            "north_south_distance: 1.2374549801493493 and east-west-distance: 1.629141607408465 (all in km)\n"
          ]
        }
      ]
    },
    {
      "cell_type": "code",
      "source": [],
      "metadata": {
        "id": "oz2-zGJ8osUn"
      },
      "execution_count": null,
      "outputs": []
    }
  ]
}