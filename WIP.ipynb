{
  "nbformat": 4,
  "nbformat_minor": 0,
  "metadata": {
    "colab": {
      "provenance": [],
      "authorship_tag": "ABX9TyMScZbM1gei8c8ZnlgtTbsN",
      "include_colab_link": true
    },
    "kernelspec": {
      "name": "python3",
      "display_name": "Python 3"
    },
    "language_info": {
      "name": "python"
    }
  },
  "cells": [
    {
      "cell_type": "markdown",
      "metadata": {
        "id": "view-in-github",
        "colab_type": "text"
      },
      "source": [
        "<a href=\"https://colab.research.google.com/github/steffenvogler/LLM2GPS/blob/main/WIP.ipynb\" target=\"_parent\"><img src=\"https://colab.research.google.com/assets/colab-badge.svg\" alt=\"Open In Colab\"/></a>"
      ]
    },
    {
      "cell_type": "code",
      "execution_count": null,
      "metadata": {
        "id": "caEI2mIKkIWo"
      },
      "outputs": [],
      "source": [
        "pip install langchain geopy google-api-python-client google-cloud-aiplatform"
      ]
    },
    {
      "cell_type": "code",
      "source": [
        "# # Automatically restart kernel after installs so that your environment can access the new packages\n",
        "import IPython\n",
        "\n",
        "app = IPython.Application.instance()\n",
        "app.kernel.do_shutdown(True)"
      ],
      "metadata": {
        "colab": {
          "base_uri": "https://localhost:8080/"
        },
        "id": "2moFm7mJH8w7",
        "outputId": "130f0415-415e-4982-d5fd-f3f76656cb88"
      },
      "execution_count": 14,
      "outputs": [
        {
          "output_type": "execute_result",
          "data": {
            "text/plain": [
              "{'status': 'ok', 'restart': True}"
            ]
          },
          "metadata": {},
          "execution_count": 14
        }
      ]
    },
    {
      "cell_type": "markdown",
      "source": [
        "**Getting started**"
      ],
      "metadata": {
        "id": "jTHBf58mIBA1"
      }
    },
    {
      "cell_type": "code",
      "source": [
        "from google.colab import auth as google_auth\n",
        "google_auth.authenticate_user()"
      ],
      "metadata": {
        "id": "TV2apPZOIAE7"
      },
      "execution_count": 1,
      "outputs": []
    },
    {
      "cell_type": "markdown",
      "source": [
        "the project must be present under https://console.cloud.google.com/ using the same account as used in above authentication"
      ],
      "metadata": {
        "id": "7fU4u-BzKe-E"
      }
    },
    {
      "cell_type": "code",
      "source": [
        "import vertexai\n",
        "\n",
        "PROJECT_ID = \"\"  # @param {type:\"string\"}\n",
        "vertexai.init(project=PROJECT_ID, location=\"europe-west4\")"
      ],
      "metadata": {
        "id": "1qSTxXvEIbVw"
      },
      "execution_count": 2,
      "outputs": []
    },
    {
      "cell_type": "code",
      "source": [
        "# Utils\n",
        "from langchain.schema import HumanMessage, SystemMessage\n",
        "from langchain.llms import VertexAI\n",
        "from langchain.embeddings import VertexAIEmbeddings\n",
        "from langchain.chat_models import ChatVertexAI\n",
        "from google.cloud import aiplatform\n",
        "import time\n",
        "from typing import List\n",
        "\n",
        "# LangChain\n",
        "import langchain\n",
        "from pydantic import BaseModel\n",
        "\n",
        "print(f\"LangChain version: {langchain.__version__}\")\n",
        "\n",
        "# Vertex AI\n",
        "\n",
        "print(f\"Vertex AI SDK version: {aiplatform.__version__}\")"
      ],
      "metadata": {
        "colab": {
          "base_uri": "https://localhost:8080/"
        },
        "id": "de-kbV2JJbF4",
        "outputId": "a4c8bf5e-072d-48c8-cc77-e7823e47cd56"
      },
      "execution_count": 3,
      "outputs": [
        {
          "output_type": "stream",
          "name": "stdout",
          "text": [
            "LangChain version: 0.0.330\n",
            "Vertex AI SDK version: 1.36.0\n"
          ]
        }
      ]
    },
    {
      "cell_type": "code",
      "source": [
        "# LLM model\n",
        "llm = VertexAI(\n",
        "    model_name=\"text-bison@001\",\n",
        "    max_output_tokens=256,\n",
        "    temperature=0.1,\n",
        "    top_p=0.8,\n",
        "    top_k=40,\n",
        "    verbose=True,\n",
        ")\n",
        "\n",
        "# Chat\n",
        "chat = ChatVertexAI()"
      ],
      "metadata": {
        "id": "kcyL9ZxUJwTx"
      },
      "execution_count": 4,
      "outputs": []
    },
    {
      "cell_type": "markdown",
      "source": [
        "check this for more details and code snipptes: [Link to exmaple notebook](https://colab.research.google.com/github/GoogleCloudPlatform/generative-ai/blob/main/language/orchestration/langchain/intro_langchain_palm_api.ipynb#scrollTo=eVpPcvsrkzCk)"
      ],
      "metadata": {
        "id": "ANqGJ3KKJ27c"
      }
    },
    {
      "cell_type": "code",
      "source": [
        "res = chat(\n",
        "    [\n",
        "        SystemMessage(content=\"You are a helpful AI bot to figure out travel plans.\"),\n",
        "        HumanMessage(content=\"I would like to go to New York, how should I do this?\"),\n",
        "    ]\n",
        ")\n",
        "print(res.content)"
      ],
      "metadata": {
        "id": "bb7OQANuKPYo"
      },
      "execution_count": null,
      "outputs": []
    },
    {
      "cell_type": "code",
      "source": [
        "from geopy.geocoders import Nominatim\n",
        "geolocator = Nominatim(user_agent=\"LLM2GPS\")"
      ],
      "metadata": {
        "id": "VUvtFhGslOqT"
      },
      "execution_count": 6,
      "outputs": []
    },
    {
      "cell_type": "code",
      "source": [
        "import math\n",
        "\n",
        "def haversine(lat1, lon1, lat2, lon2):\n",
        "  \"\"\"Calculates the great circle distance between two points on a sphere.\n",
        "\n",
        "  Args:\n",
        "    lat1: The latitude of the first point in degrees.\n",
        "    lon1: The longitude of the first point in degrees.\n",
        "    lat2: The latitude of the second point in degrees.\n",
        "    lon2: The longitude of the second point in degrees.\n",
        "\n",
        "  Returns:\n",
        "    The great circle distance between the two points in kilometers.\n",
        "  \"\"\"\n",
        "\n",
        "  R = 6371  # Earth's radius in kilometers\n",
        "\n",
        "  dlat = math.radians(float(lat2) - float(lat1))\n",
        "  dlon = math.radians(float(lon2) - float(lon1))\n",
        "  a = math.sin(dlat / 2) ** 2 + math.cos(math.radians(float(lat1))) * math.cos(math.radians(float(lat2))) * math.sin(dlon / 2) ** 2\n",
        "  c = 2 * math.atan2(math.sqrt(a), math.sqrt(1 - a))\n",
        "  d = R * c\n",
        "\n",
        "  return d"
      ],
      "metadata": {
        "id": "maLXGhv9n9Rr"
      },
      "execution_count": 47,
      "outputs": []
    },
    {
      "cell_type": "code",
      "source": [
        "location = geolocator.geocode(\"Zoo Rostock Deutschland\")\n",
        "#location = geolocator.geocode(\"Mecklenburg Vorpommern\")\n",
        "#location = geolocator.geocode(\"Berlin\")\n",
        "#location = geolocator.geocode(\"London Hyde Park\")\n",
        "#location = geolocator.geocode(\"Mt Cook New Zealand\")\n",
        "#location = geolocator.geocode(\"Mt Cook\") #w/o \"New Zealand\" it takes Mt Cook in Australia TODO: use LLM to refine search query\n",
        "print((location.latitude, location.longitude))\n",
        "print(location.address)\n",
        "print(location.raw['boundingbox'])\n",
        "print(location.raw)\n"
      ],
      "metadata": {
        "colab": {
          "base_uri": "https://localhost:8080/"
        },
        "id": "W9pIMfVQlPRk",
        "outputId": "50aa062d-eb7a-4fd0-9a3c-3928277075f4"
      },
      "execution_count": 57,
      "outputs": [
        {
          "output_type": "stream",
          "name": "stdout",
          "text": [
            "(54.077978349999995, 12.080661755222774)\n",
            "Zoologischer Garten Rostock, 21, Rennbahnallee, Gartenstadt, Gartenstadt-Stadtweide, Ortsbeirat 10 : Gartenstadt/Stadtweide, Rostock, Mecklenburg-Vorpommern, 18059, Deutschland\n",
            "['54.0759585', '54.0799156', '12.0740685', '12.0957281']\n",
            "{'place_id': 161533634, 'licence': 'Data © OpenStreetMap contributors, ODbL 1.0. http://osm.org/copyright', 'osm_type': 'way', 'osm_id': 22943770, 'lat': '54.077978349999995', 'lon': '12.080661755222774', 'class': 'tourism', 'type': 'zoo', 'place_rank': 30, 'importance': 0.3054395124350446, 'addresstype': 'tourism', 'name': 'Zoologischer Garten Rostock', 'display_name': 'Zoologischer Garten Rostock, 21, Rennbahnallee, Gartenstadt, Gartenstadt-Stadtweide, Ortsbeirat 10 : Gartenstadt/Stadtweide, Rostock, Mecklenburg-Vorpommern, 18059, Deutschland', 'boundingbox': ['54.0759585', '54.0799156', '12.0740685', '12.0957281']}\n"
          ]
        }
      ]
    },
    {
      "cell_type": "code",
      "source": [
        "# TODO: of 'type' = 'peak' a width/height calculation does not make sense (may be use national park instead?)\n",
        "# TODO: check the 'type' provided by Nominatim geocoders\n",
        "east_west_dist = haversine(location.raw['boundingbox'][0], location.raw['boundingbox'][2], location.raw['boundingbox'][0], location.raw['boundingbox'][3])\n",
        "north_south_dist = haversine(location.raw['boundingbox'][0], location.raw['boundingbox'][2], location.raw['boundingbox'][1], location.raw['boundingbox'][2])\n",
        "print(\"north_south_distance: {} and east-west-distance: {} (all in km)\".format(north_south_dist, east_west_dist))"
      ],
      "metadata": {
        "colab": {
          "base_uri": "https://localhost:8080/"
        },
        "id": "quxubhsrlZNt",
        "outputId": "202e6838-833f-4a5c-e70f-0cc316518a10"
      },
      "execution_count": 58,
      "outputs": [
        {
          "output_type": "stream",
          "name": "stdout",
          "text": [
            "north_south_distance: 0.4400094442252873 and east-west-distance: 1.4130597398662739 (all in km)\n"
          ]
        }
      ]
    },
    {
      "cell_type": "code",
      "source": [],
      "metadata": {
        "id": "oz2-zGJ8osUn"
      },
      "execution_count": null,
      "outputs": []
    }
  ]
}